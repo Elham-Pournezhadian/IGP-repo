{
 "cells": [
  {
   "cell_type": "code",
   "execution_count": 1,
   "id": "fe188dc2",
   "metadata": {},
   "outputs": [],
   "source": [
    "import pandas as pd\n",
    "import numpy as np\n",
    "import os"
   ]
  },
  {
   "cell_type": "code",
   "execution_count": 2,
   "id": "1d4a8311",
   "metadata": {},
   "outputs": [
    {
     "name": "stderr",
     "output_type": "stream",
     "text": [
      "C:\\Users\\ASUS\\AppData\\Local\\Temp\\ipykernel_17268\\3045361307.py:2: DtypeWarning: Columns (0,1,2,3,4,5,6,9) have mixed types. Specify dtype option on import or set low_memory=False.\n",
      "  df2 = pd.read_csv('AP data - original/Bristol_Temple_Way.csv')\n"
     ]
    }
   ],
   "source": [
    "df1 = pd.read_csv('AP data - original/Bristol_Centre.csv')\n",
    "df2 = pd.read_csv('AP data - original/Bristol_Temple_Way.csv')\n",
    "df3 = pd.read_csv('AP data - original/Bristol_Old_Market.csv')\n",
    "df4 = pd.read_csv('AP data - original/Bristol_St_Pauls.csv')"
   ]
  },
  {
   "cell_type": "code",
   "execution_count": 3,
   "id": "2496a0d6",
   "metadata": {},
   "outputs": [],
   "source": [
    "def merge_dataframes(dataframes):\n",
    "    '''This function merges multiple dataframes'''\n",
    "    merged_df = pd.concat(dataframes, ignore_index=True)\n",
    "    return merged_df"
   ]
  },
  {
   "cell_type": "code",
   "execution_count": 4,
   "id": "c95af229",
   "metadata": {},
   "outputs": [
    {
     "name": "stderr",
     "output_type": "stream",
     "text": [
      "C:\\Users\\ASUS\\AppData\\Local\\Temp\\ipykernel_17268\\2569067741.py:4: DtypeWarning: Columns (0,1,2,3,4,5,6,9) have mixed types. Specify dtype option on import or set low_memory=False.\n",
      "  dataframes = [pd.read_csv('AP data - original/' + file_path) for file_path in file_paths]\n"
     ]
    }
   ],
   "source": [
    "# Merge dataframes\n",
    "file_paths = ['Bristol_Centre.csv', 'Bristol_Temple_Way.csv', 'Bristol_Old_Market.csv', 'Bristol_St_Pauls.csv']\n",
    "\n",
    "dataframes = [pd.read_csv('AP data - original/' + file_path) for file_path in file_paths]\n",
    "merged_df = merge_dataframes(dataframes)"
   ]
  },
  {
   "cell_type": "code",
   "execution_count": 5,
   "id": "27b8882f",
   "metadata": {},
   "outputs": [
    {
     "name": "stdout",
     "output_type": "stream",
     "text": [
      "<class 'pandas.core.frame.DataFrame'>\n",
      "RangeIndex: 1288555 entries, 0 to 1288554\n",
      "Data columns (total 10 columns):\n",
      " #   Column                                     Non-Null Count    Dtype \n",
      "---  ------                                     --------------    ----- \n",
      " 0   Date                                       293475 non-null   object\n",
      " 1   Time                                       293474 non-null   object\n",
      " 2   Station Name                               293474 non-null   object\n",
      " 3   Ozone                                      293474 non-null   object\n",
      " 4   Nitric oxide                               293474 non-null   object\n",
      " 5   Nitrogen dioxide                           293474 non-null   object\n",
      " 6   Nitrogen oxides as nitrogen dioxide        293474 non-null   object\n",
      " 7   Sulphur dioxide                            1288551 non-null  object\n",
      " 8   Carbon monoxide                            1288551 non-null  object\n",
      " 9   PM10 particulate matter (Hourly measured)  293474 non-null   object\n",
      "dtypes: object(10)\n",
      "memory usage: 98.3+ MB\n"
     ]
    }
   ],
   "source": [
    "merged_df.info()"
   ]
  },
  {
   "cell_type": "code",
   "execution_count": 6,
   "id": "89e7041d",
   "metadata": {},
   "outputs": [],
   "source": [
    "# import into CSV\n",
    "merged_df.to_csv('AP data - merged.csv' , index= False)"
   ]
  }
 ],
 "metadata": {
  "kernelspec": {
   "display_name": "Python 3 (ipykernel)",
   "language": "python",
   "name": "python3"
  },
  "language_info": {
   "codemirror_mode": {
    "name": "ipython",
    "version": 3
   },
   "file_extension": ".py",
   "mimetype": "text/x-python",
   "name": "python",
   "nbconvert_exporter": "python",
   "pygments_lexer": "ipython3",
   "version": "3.11.5"
  }
 },
 "nbformat": 4,
 "nbformat_minor": 5
}
